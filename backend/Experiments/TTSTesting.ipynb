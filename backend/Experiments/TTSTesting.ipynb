{
 "cells": [
  {
   "cell_type": "code",
   "execution_count": 4,
   "metadata": {},
   "outputs": [],
   "source": [
    "import os\n",
    "import asyncio\n",
    "import aiohttp\n",
    "import base64\n",
    "\n",
    "from dotenv import load_dotenv\n",
    "load_dotenv()\n",
    "\n",
    "import nest_asyncio\n",
    "nest_asyncio.apply()\n",
    "\n",
    "from elevenlabs.client import ElevenLabs\n",
    "from elevenlabs import stream"
   ]
  },
  {
   "cell_type": "code",
   "execution_count": 7,
   "metadata": {},
   "outputs": [
    {
     "ename": "ImportError",
     "evalue": "cannot import name 'Client' from 'elevenlabs' (c:\\Users\\JR\\.conda\\envs\\ABSeas\\lib\\site-packages\\elevenlabs\\__init__.py)",
     "output_type": "error",
     "traceback": [
      "\u001b[1;31m---------------------------------------------------------------------------\u001b[0m",
      "\u001b[1;31mImportError\u001b[0m                               Traceback (most recent call last)",
      "Cell \u001b[1;32mIn[7], line 4\u001b[0m\n\u001b[0;32m      2\u001b[0m \u001b[38;5;28;01mfrom\u001b[39;00m \u001b[38;5;21;01mconcurrent\u001b[39;00m\u001b[38;5;21;01m.\u001b[39;00m\u001b[38;5;21;01mfutures\u001b[39;00m \u001b[38;5;28;01mimport\u001b[39;00m ThreadPoolExecutor\n\u001b[0;32m      3\u001b[0m \u001b[38;5;28;01mimport\u001b[39;00m \u001b[38;5;21;01mbase64\u001b[39;00m\n\u001b[1;32m----> 4\u001b[0m \u001b[38;5;28;01mfrom\u001b[39;00m \u001b[38;5;21;01melevenlabs\u001b[39;00m \u001b[38;5;28;01mimport\u001b[39;00m Client\n\u001b[0;32m      6\u001b[0m api_key \u001b[38;5;241m=\u001b[39m \u001b[38;5;124m\"\u001b[39m\u001b[38;5;124myour_api_key_here\u001b[39m\u001b[38;5;124m\"\u001b[39m  \u001b[38;5;66;03m# Replace with your actual API key\u001b[39;00m\n\u001b[0;32m      7\u001b[0m client \u001b[38;5;241m=\u001b[39m Client(api_key\u001b[38;5;241m=\u001b[39mapi_key)\n",
      "\u001b[1;31mImportError\u001b[0m: cannot import name 'Client' from 'elevenlabs' (c:\\Users\\JR\\.conda\\envs\\ABSeas\\lib\\site-packages\\elevenlabs\\__init__.py)"
     ]
    }
   ],
   "source": [
    "import asyncio\n",
    "from concurrent.futures import ThreadPoolExecutor\n",
    "import base64\n",
    "from elevenlabs import Client\n",
    "\n",
    "api_key = \"your_api_key_here\"  # Replace with your actual API key\n",
    "client = Client(api_key=api_key)\n",
    "\n",
    "async def async_text_to_speech(lyrics, voice_id):\n",
    "    loop = asyncio.get_running_loop()\n",
    "    \n",
    "    # Define a wrapper function for the synchronous API call\n",
    "    def get_speech_sync():\n",
    "        return client.create_synthesis(text=lyrics, voice=voice_id)\n",
    "\n",
    "    # Run the synchronous function in a thread pool executor\n",
    "    synthesis = await loop.run_in_executor(None, get_speech_sync)\n",
    "\n",
    "    if synthesis:\n",
    "        synthesis_id = synthesis.get(\"id\")\n",
    "        # Fetch the synthesis result, assuming it's ready immediately for simplicity\n",
    "        def fetch_result_sync():\n",
    "            return client.get_synthesis_audio(synthesis_id=synthesis_id)\n",
    "\n",
    "        mp3_data = await loop.run_in_executor(None, fetch_result_sync)\n",
    "\n",
    "        if mp3_data:\n",
    "            # Assuming you want to stream the MP3 data in chunks\n",
    "            chunk_size = 1024  # Define a suitable chunk size\n",
    "            for i in range(0, len(mp3_data), chunk_size):\n",
    "                chunk = mp3_data[i:i+chunk_size]\n",
    "                if chunk:\n",
    "                    # Translate binary to base64 string for streaming\n",
    "                    b64 = base64.b64encode(chunk)\n",
    "                    utf = b64.decode('utf-8')\n",
    "                    obj = {\n",
    "                        \"event\": \"audio\",\n",
    "                        \"audio_data\": utf\n",
    "                    }\n",
    "                    # Assuming you have a manager for broadcasting\n",
    "                    await manager.broadcast(obj)  # Ensure manager.broadcast is async\n",
    "    else:\n",
    "        print(\"Failed to generate speech.\")\n",
    "\n",
    "# Example usage\n",
    "asyncio.run(async_text_to_speech(\"Hello, world\", 2))\n"
   ]
  }
 ],
 "metadata": {
  "kernelspec": {
   "display_name": "ABSeas",
   "language": "python",
   "name": "python3"
  },
  "language_info": {
   "codemirror_mode": {
    "name": "ipython",
    "version": 3
   },
   "file_extension": ".py",
   "mimetype": "text/x-python",
   "name": "python",
   "nbconvert_exporter": "python",
   "pygments_lexer": "ipython3",
   "version": "3.9.19"
  }
 },
 "nbformat": 4,
 "nbformat_minor": 2
}
