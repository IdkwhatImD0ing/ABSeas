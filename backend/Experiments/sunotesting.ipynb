{
 "cells": [
  {
   "cell_type": "code",
   "execution_count": 31,
   "metadata": {},
   "outputs": [],
   "source": [
    "import asyncio\n",
    "from dotenv import load_dotenv\n",
    "import aiohttp\n",
    "\n",
    "load_dotenv()\n",
    "import nest_asyncio\n",
    "\n",
    "nest_asyncio.apply()\n",
    "import os\n",
    "from anthropic import AsyncAnthropic\n",
    "from xml.sax.saxutils import escape\n",
    "from suno import SongsGen\n",
    "from concurrent.futures import ThreadPoolExecutor\n",
    "\n",
    "from io import BytesIO\n",
    "import base64"
   ]
  },
  {
   "cell_type": "code",
   "execution_count": 32,
   "metadata": {},
   "outputs": [],
   "source": [
    "\n",
    "async def async_generate_music(lyrics):\n",
    "    print(\"Generating music\")\n",
    "    GenerateSong = SongsGen(os.environ.get(\"SUNO_COOKIE\"))\n",
    "    print(GenerateSong.get_limit_left())\n",
    "    loop = asyncio.get_running_loop()\n",
    "\n",
    "    result = None\n",
    "    # Use a ThreadPoolExecutor to run synchronous functions in threads\n",
    "    with ThreadPoolExecutor() as pool:\n",
    "        result = await loop.run_in_executor(\n",
    "            pool,\n",
    "            lambda: GenerateSong.get_songs(lyrics, is_custom = True, title = \"custom\", tags = \"slow, catchy, maritime, pirate\"),\n",
    "        )\n",
    "\n",
    "    if not result:\n",
    "        return None\n",
    "\n",
    "    link = result[\"song_url\"]\n",
    "    print(\"Link: \", link)\n",
    "    \n",
    "    response = GenerateSong.session.get(link, stream = True)\n",
    "    print(response.status_code)\n",
    "    audio = response.iter_content()\n",
    "    data = b''\n",
    "    for chunk in audio:\n",
    "        if chunk:\n",
    "            # translates binary to base64 string\n",
    "            b64 = base64.b64encode(chunk)\n",
    "            # decodes the b.64 binary obj into a string\n",
    "            utf = b64.decode('utf-8')\n",
    "            # creates a dict obj that stores the event as an audio chunk and sets the audio data to utf format\n",
    "            obj = {\n",
    "                \"event\": \"audio\",\n",
    "                \"audio_data\": utf\n",
    "            }\n",
    "            # waits for broadcasting to run\n",
    "            data += chunk\n",
    "            \n",
    "    return data\n",
    "             "
   ]
  },
  {
   "cell_type": "code",
   "execution_count": 33,
   "metadata": {},
   "outputs": [
    {
     "name": "stdout",
     "output_type": "stream",
     "text": [
      "Generating music\n",
      "89\n"
     ]
    },
    {
     "data": {
      "text/html": [
       "<pre style=\"white-space:pre;overflow-x:auto;line-height:normal;font-family:Menlo,'DejaVu Sans Mono',consolas,'Courier New',monospace\"><span style=\"font-weight: bold\">{</span>\n",
       "    <span style=\"color: #008000; text-decoration-color: #008000\">'gpt_description_prompt'</span>: <span style=\"color: #008000; text-decoration-color: #008000\">''</span>,\n",
       "    <span style=\"color: #008000; text-decoration-color: #008000\">'mv'</span>: <span style=\"color: #008000; text-decoration-color: #008000\">'chirp-v3-0'</span>,\n",
       "    <span style=\"color: #008000; text-decoration-color: #008000\">'prompt'</span>: <span style=\"color: #008000; text-decoration-color: #008000\">\"\\nVerse 1:\\nWhen yer sailin' on the seas (yo-ho!)\\nAnd you've got some tasty treats (arr!)\\nDon't </span>\n",
       "<span style=\"color: #008000; text-decoration-color: #008000\">forget to share with mates\\nThat's what every pirate states! (ahoy!)\\n\"</span>,\n",
       "    <span style=\"color: #008000; text-decoration-color: #008000\">'make_instrumental'</span>: <span style=\"color: #ff0000; text-decoration-color: #ff0000; font-style: italic\">False</span>,\n",
       "    <span style=\"color: #008000; text-decoration-color: #008000\">'title'</span>: <span style=\"color: #008000; text-decoration-color: #008000\">'custom'</span>,\n",
       "    <span style=\"color: #008000; text-decoration-color: #008000\">'tags'</span>: <span style=\"color: #008000; text-decoration-color: #008000\">'slow, catchy, maritime, pirate'</span>\n",
       "<span style=\"font-weight: bold\">}</span>\n",
       "</pre>\n"
      ],
      "text/plain": [
       "\u001b[1m{\u001b[0m\n",
       "    \u001b[32m'gpt_description_prompt'\u001b[0m: \u001b[32m''\u001b[0m,\n",
       "    \u001b[32m'mv'\u001b[0m: \u001b[32m'chirp-v3-0'\u001b[0m,\n",
       "    \u001b[32m'prompt'\u001b[0m: \u001b[32m\"\\nVerse 1:\\nWhen yer sailin' on the seas \u001b[0m\u001b[32m(\u001b[0m\u001b[32myo-ho!\u001b[0m\u001b[32m)\u001b[0m\u001b[32m\\nAnd you've got some tasty treats \u001b[0m\u001b[32m(\u001b[0m\u001b[32marr!\u001b[0m\u001b[32m)\u001b[0m\u001b[32m\\nDon't \u001b[0m\n",
       "\u001b[32mforget to share with mates\\nThat's what every pirate states! \u001b[0m\u001b[32m(\u001b[0m\u001b[32mahoy!\u001b[0m\u001b[32m)\u001b[0m\u001b[32m\\n\"\u001b[0m,\n",
       "    \u001b[32m'make_instrumental'\u001b[0m: \u001b[3;91mFalse\u001b[0m,\n",
       "    \u001b[32m'title'\u001b[0m: \u001b[32m'custom'\u001b[0m,\n",
       "    \u001b[32m'tags'\u001b[0m: \u001b[32m'slow, catchy, maritime, pirate'\u001b[0m\n",
       "\u001b[1m}\u001b[0m\n"
      ]
     },
     "metadata": {},
     "output_type": "display_data"
    },
    {
     "data": {
      "text/html": [
       "<pre style=\"white-space:pre;overflow-x:auto;line-height:normal;font-family:Menlo,'DejaVu Sans Mono',consolas,'Courier New',monospace\">Waiting for results<span style=\"color: #808000; text-decoration-color: #808000\">...</span>\n",
       "</pre>\n"
      ],
      "text/plain": [
       "Waiting for results\u001b[33m...\u001b[0m\n"
      ]
     },
     "metadata": {},
     "output_type": "display_data"
    },
    {
     "data": {
      "text/html": [
       "<pre style=\"white-space:pre;overflow-x:auto;line-height:normal;font-family:Menlo,'DejaVu Sans Mono',consolas,'Courier New',monospace\">.</pre>\n"
      ],
      "text/plain": [
       "."
      ]
     },
     "metadata": {},
     "output_type": "display_data"
    },
    {
     "data": {
      "text/html": [
       "<pre style=\"white-space:pre;overflow-x:auto;line-height:normal;font-family:Menlo,'DejaVu Sans Mono',consolas,'Courier New',monospace\">.</pre>\n"
      ],
      "text/plain": [
       "."
      ]
     },
     "metadata": {},
     "output_type": "display_data"
    },
    {
     "data": {
      "text/html": [
       "<pre style=\"white-space:pre;overflow-x:auto;line-height:normal;font-family:Menlo,'DejaVu Sans Mono',consolas,'Courier New',monospace\">.</pre>\n"
      ],
      "text/plain": [
       "."
      ]
     },
     "metadata": {},
     "output_type": "display_data"
    },
    {
     "name": "stdout",
     "output_type": "stream",
     "text": [
      "Link:  https://audiopipe.suno.ai/?item_id=0276d537-86ff-401f-a2c0-6a542b63b9a2\n",
      "200\n"
     ]
    }
   ],
   "source": [
    "data =  \"\"\"\n",
    "Verse 1:\n",
    "When yer sailin' on the seas (yo-ho!)\n",
    "And you've got some tasty treats (arr!)\n",
    "Don't forget to share with mates\n",
    "That's what every pirate states! (ahoy!)\n",
    "\"\"\"   \n",
    "\n",
    "audio = asyncio.run(async_generate_music(data))\n"
   ]
  },
  {
   "cell_type": "code",
   "execution_count": 34,
   "metadata": {},
   "outputs": [],
   "source": [
    "# binary is a base64 encoded string, save it to a file\n",
    "with open(\"custom_song.mp3\", \"wb\") as f:\n",
    "    f.write(audio)"
   ]
  },
  {
   "cell_type": "code",
   "execution_count": 35,
   "metadata": {},
   "outputs": [],
   "source": [
    "from openai import AsyncOpenAI\n",
    "import tempfile\n",
    "client = AsyncOpenAI()\n",
    "async def transcribe_audio(audio):\n",
    "    with tempfile.NamedTemporaryFile(\n",
    "            suffix=\".mp3\", mode=\"wb\", delete=True\n",
    "        ) as temp_audio_file:\n",
    "        temp_audio_file.write(audio)\n",
    "        temp_audio_file.flush()\n",
    "        temp_audio_file.seek(0)\n",
    "\n",
    "        with open(temp_audio_file.name, \"rb\") as audio_file:\n",
    "            transcript_obj = await client.audio.transcriptions.create(\n",
    "                model=\"whisper-1\", file=audio_file, response_format=\"verbose_json\", timestamp_granularities=['word']\n",
    "            )\n",
    "    return transcript_obj.words\n",
    "\n",
    "transcript = asyncio.run(transcribe_audio(audio))"
   ]
  },
  {
   "cell_type": "code",
   "execution_count": 39,
   "metadata": {},
   "outputs": [
    {
     "data": {
      "text/plain": [
       "[{'word': 'When', 'start': 12.579999923706055, 'end': 13.720000267028809},\n",
       " {'word': \"you're\", 'start': 13.720000267028809, 'end': 14.180000305175781},\n",
       " {'word': 'sailing', 'start': 14.180000305175781, 'end': 14.760000228881836},\n",
       " {'word': 'on', 'start': 14.760000228881836, 'end': 15.479999542236328},\n",
       " {'word': 'the', 'start': 15.479999542236328, 'end': 16.059999465942383},\n",
       " {'word': 'sea', 'start': 16.059999465942383, 'end': 16.200000762939453},\n",
       " {'word': 'and', 'start': 17.440000534057617, 'end': 17.440000534057617},\n",
       " {'word': 'you', 'start': 17.440000534057617, 'end': 17.940000534057617},\n",
       " {'word': 'got', 'start': 17.940000534057617, 'end': 18.260000228881836},\n",
       " {'word': 'some', 'start': 18.260000228881836, 'end': 19.059999465942383},\n",
       " {'word': 'tasty', 'start': 19.059999465942383, 'end': 19.139999389648438},\n",
       " {'word': 'treats', 'start': 19.139999389648438, 'end': 19.600000381469727},\n",
       " {'word': \"don't\", 'start': 20.440000534057617, 'end': 20.84000015258789},\n",
       " {'word': 'forget', 'start': 20.84000015258789, 'end': 21.079999923706055},\n",
       " {'word': 'to', 'start': 21.079999923706055, 'end': 21.8799991607666},\n",
       " {'word': 'share', 'start': 21.8799991607666, 'end': 22.0},\n",
       " {'word': 'with', 'start': 22.0, 'end': 22.8799991607666},\n",
       " {'word': 'mates', 'start': 22.8799991607666, 'end': 22.8799991607666},\n",
       " {'word': \"that's\", 'start': 23.200000762939453, 'end': 23.760000228881836},\n",
       " {'word': 'what', 'start': 23.760000228881836, 'end': 24.18000030517578},\n",
       " {'word': 'every', 'start': 24.18000030517578, 'end': 24.979999542236328},\n",
       " {'word': 'pirate', 'start': 24.979999542236328, 'end': 25.600000381469727},\n",
       " {'word': 'states', 'start': 25.600000381469727, 'end': 26.18000030517578}]"
      ]
     },
     "execution_count": 39,
     "metadata": {},
     "output_type": "execute_result"
    }
   ],
   "source": [
    "transcript"
   ]
  }
 ],
 "metadata": {
  "kernelspec": {
   "display_name": "ABSeas",
   "language": "python",
   "name": "python3"
  },
  "language_info": {
   "codemirror_mode": {
    "name": "ipython",
    "version": 3
   },
   "file_extension": ".py",
   "mimetype": "text/x-python",
   "name": "python",
   "nbconvert_exporter": "python",
   "pygments_lexer": "ipython3",
   "version": "3.9.18"
  }
 },
 "nbformat": 4,
 "nbformat_minor": 2
}
