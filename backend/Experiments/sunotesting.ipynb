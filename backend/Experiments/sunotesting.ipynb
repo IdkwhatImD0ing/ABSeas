{
 "cells": [
  {
   "cell_type": "code",
   "execution_count": 6,
   "metadata": {},
   "outputs": [],
   "source": [
    "import asyncio\n",
    "from dotenv import load_dotenv\n",
    "import aiohttp\n",
    "\n",
    "load_dotenv()\n",
    "import nest_asyncio\n",
    "\n",
    "nest_asyncio.apply()\n",
    "import os\n",
    "from anthropic import AsyncAnthropic\n",
    "from xml.sax.saxutils import escape\n",
    "from suno import SongsGen\n",
    "from concurrent.futures import ThreadPoolExecutor"
   ]
  },
  {
   "cell_type": "code",
   "execution_count": 7,
   "metadata": {},
   "outputs": [],
   "source": [
    "async def async_generate_music(lyrics):\n",
    "    i = SongsGen(os.environ.get(\"SUNO_COOKIE\"))\n",
    "    print(i.get_limit_left())\n",
    "    loop = asyncio.get_running_loop()\n",
    "\n",
    "    result = None\n",
    "    # Use a ThreadPoolExecutor to run synchronous functions in threads\n",
    "    with ThreadPoolExecutor() as pool:\n",
    "        result = await loop.run_in_executor(\n",
    "            pool,\n",
    "            lambda: i.get_songs(lyrics, is_custom = True, title = \"custom\", tags = \"slow, catchy, maritime, pirate\"),\n",
    "        )\n",
    "\n",
    "    if not result:\n",
    "        return None\n",
    "\n",
    "    link = result[\"song_url\"]\n",
    "    print(\"Link: \", link)\n",
    "\n",
    "    attempt = 0\n",
    "    retry_delay = 5\n",
    "    async with aiohttp.ClientSession() as session:\n",
    "        while attempt < 5:\n",
    "            async with session.get(link) as response:\n",
    "                if response.status == 200:\n",
    "                    data = await response.read()\n",
    "                    # Check if data is not empty\n",
    "                    if data:\n",
    "                        return data\n",
    "                    else:\n",
    "                        print(\"No data received, retrying in 5 seconds...\")\n",
    "                else:\n",
    "                    print(\n",
    "                        f\"Failed to fetch the song, status code: {response.status}, retrying in 5 seconds...\"\n",
    "                    )\n",
    "            await asyncio.sleep(retry_delay)  # Async sleep for retry_delay seconds\n",
    "            attempt += 1\n",
    "\n",
    "    print(\"Failed to fetch the song after retries\")\n",
    "    return None"
   ]
  },
  {
   "cell_type": "code",
   "execution_count": 8,
   "metadata": {},
   "outputs": [
    {
     "name": "stdout",
     "output_type": "stream",
     "text": [
      "An energetic and playful electronic track with a quirky, curious vibe.\n",
      "114\n"
     ]
    },
    {
     "data": {
      "text/html": [
       "<pre style=\"white-space:pre;overflow-x:auto;line-height:normal;font-family:Menlo,'DejaVu Sans Mono',consolas,'Courier New',monospace\"><span style=\"font-weight: bold\">{</span>\n",
       "    <span style=\"color: #008000; text-decoration-color: #008000\">'gpt_description_prompt'</span>: <span style=\"color: #008000; text-decoration-color: #008000\">''</span>,\n",
       "    <span style=\"color: #008000; text-decoration-color: #008000\">'mv'</span>: <span style=\"color: #008000; text-decoration-color: #008000\">'chirp-v3-0'</span>,\n",
       "    <span style=\"color: #008000; text-decoration-color: #008000\">'prompt'</span>: <span style=\"color: #008000; text-decoration-color: #008000\">\"\\n        Verse 1:\\nWhen yer sailin' on the seas (yo-ho!)\\nAnd you've got some tasty treats </span>\n",
       "<span style=\"color: #008000; text-decoration-color: #008000\">(arr!)\\nDon't forget to share with mates\\nThat's what every pirate states! (ahoy!)\\n\\nChorus:\\nSharin' is carin', </span>\n",
       "<span style=\"color: #008000; text-decoration-color: #008000\">me hearties know\\nIt fills our hearts with a friendly glow\\nWhether it's treasure or a yummy snack\\nSharin' with </span>\n",
       "<span style=\"color: #008000; text-decoration-color: #008000\">others keeps the smiles on track! (yo-ho!)\\n\\nVerse 2:\\nIf you've got a shiny coin (avast!)\\nOr a scrumptious candy</span>\n",
       "<span style=\"color: #008000; text-decoration-color: #008000\">growin'\\nPass it 'round to all yer crew\\nSharin' makes the skies more blue! (arr!)\\n\\nChorus:\\nSharin' is carin', </span>\n",
       "<span style=\"color: #008000; text-decoration-color: #008000\">me hearties know\\nIt fills our hearts with a friendly glow\\n\\nWhether it's treasure or a yummy snack\\nSharin' with </span>\n",
       "<span style=\"color: #008000; text-decoration-color: #008000\">others keeps the smiles on track! (yo-ho!)\\n    \"</span>,\n",
       "    <span style=\"color: #008000; text-decoration-color: #008000\">'make_instrumental'</span>: <span style=\"color: #ff0000; text-decoration-color: #ff0000; font-style: italic\">False</span>,\n",
       "    <span style=\"color: #008000; text-decoration-color: #008000\">'title'</span>: <span style=\"color: #008000; text-decoration-color: #008000\">'custom'</span>,\n",
       "    <span style=\"color: #008000; text-decoration-color: #008000\">'tags'</span>: <span style=\"color: #008000; text-decoration-color: #008000\">'slow, catchy, maritime, pirate'</span>\n",
       "<span style=\"font-weight: bold\">}</span>\n",
       "</pre>\n"
      ],
      "text/plain": [
       "\u001b[1m{\u001b[0m\n",
       "    \u001b[32m'gpt_description_prompt'\u001b[0m: \u001b[32m''\u001b[0m,\n",
       "    \u001b[32m'mv'\u001b[0m: \u001b[32m'chirp-v3-0'\u001b[0m,\n",
       "    \u001b[32m'prompt'\u001b[0m: \u001b[32m\"\\n        Verse 1:\\nWhen yer sailin' on the seas \u001b[0m\u001b[32m(\u001b[0m\u001b[32myo-ho!\u001b[0m\u001b[32m)\u001b[0m\u001b[32m\\nAnd you've got some tasty treats \u001b[0m\n",
       "\u001b[32m(\u001b[0m\u001b[32marr!\u001b[0m\u001b[32m)\u001b[0m\u001b[32m\\nDon't forget to share with mates\\nThat's what every pirate states! \u001b[0m\u001b[32m(\u001b[0m\u001b[32mahoy!\u001b[0m\u001b[32m)\u001b[0m\u001b[32m\\n\\nChorus:\\nSharin' is carin', \u001b[0m\n",
       "\u001b[32mme hearties know\\nIt fills our hearts with a friendly glow\\nWhether it's treasure or a yummy snack\\nSharin' with \u001b[0m\n",
       "\u001b[32mothers keeps the smiles on track! \u001b[0m\u001b[32m(\u001b[0m\u001b[32myo-ho!\u001b[0m\u001b[32m)\u001b[0m\u001b[32m\\n\\nVerse 2:\\nIf you've got a shiny coin \u001b[0m\u001b[32m(\u001b[0m\u001b[32mavast!\u001b[0m\u001b[32m)\u001b[0m\u001b[32m\\nOr a scrumptious candy\u001b[0m\n",
       "\u001b[32mgrowin'\\nPass it 'round to all yer crew\\nSharin' makes the skies more blue! \u001b[0m\u001b[32m(\u001b[0m\u001b[32marr!\u001b[0m\u001b[32m)\u001b[0m\u001b[32m\\n\\nChorus:\\nSharin' is carin', \u001b[0m\n",
       "\u001b[32mme hearties know\\nIt fills our hearts with a friendly glow\\n\\nWhether it's treasure or a yummy snack\\nSharin' with \u001b[0m\n",
       "\u001b[32mothers keeps the smiles on track! \u001b[0m\u001b[32m(\u001b[0m\u001b[32myo-ho!\u001b[0m\u001b[32m)\u001b[0m\u001b[32m\\n    \"\u001b[0m,\n",
       "    \u001b[32m'make_instrumental'\u001b[0m: \u001b[3;91mFalse\u001b[0m,\n",
       "    \u001b[32m'title'\u001b[0m: \u001b[32m'custom'\u001b[0m,\n",
       "    \u001b[32m'tags'\u001b[0m: \u001b[32m'slow, catchy, maritime, pirate'\u001b[0m\n",
       "\u001b[1m}\u001b[0m\n"
      ]
     },
     "metadata": {},
     "output_type": "display_data"
    },
    {
     "data": {
      "text/html": [
       "<pre style=\"white-space:pre;overflow-x:auto;line-height:normal;font-family:Menlo,'DejaVu Sans Mono',consolas,'Courier New',monospace\">Waiting for results<span style=\"color: #808000; text-decoration-color: #808000\">...</span>\n",
       "</pre>\n"
      ],
      "text/plain": [
       "Waiting for results\u001b[33m...\u001b[0m\n"
      ]
     },
     "metadata": {},
     "output_type": "display_data"
    },
    {
     "data": {
      "text/html": [
       "<pre style=\"white-space:pre;overflow-x:auto;line-height:normal;font-family:Menlo,'DejaVu Sans Mono',consolas,'Courier New',monospace\">.</pre>\n"
      ],
      "text/plain": [
       "."
      ]
     },
     "metadata": {},
     "output_type": "display_data"
    },
    {
     "data": {
      "text/html": [
       "<pre style=\"white-space:pre;overflow-x:auto;line-height:normal;font-family:Menlo,'DejaVu Sans Mono',consolas,'Courier New',monospace\">.</pre>\n"
      ],
      "text/plain": [
       "."
      ]
     },
     "metadata": {},
     "output_type": "display_data"
    },
    {
     "data": {
      "text/html": [
       "<pre style=\"white-space:pre;overflow-x:auto;line-height:normal;font-family:Menlo,'DejaVu Sans Mono',consolas,'Courier New',monospace\">.</pre>\n"
      ],
      "text/plain": [
       "."
      ]
     },
     "metadata": {},
     "output_type": "display_data"
    },
    {
     "name": "stdout",
     "output_type": "stream",
     "text": [
      "Link:  https://audiopipe.suno.ai/?item_id=a9f447ff-12fd-4c90-9887-a8b9e2dbec20\n"
     ]
    }
   ],
   "source": [
    "import json\n",
    "# Load json from data/data.json\n",
    "\n",
    "with open('data/data.json') as f:\n",
    "    data = json.load(f)\n",
    "    \n",
    "data = data[\"script\"]\n",
    "\n",
    "data =  \n",
    "\"\"\"\n",
    "Verse 1:\n",
    "When yer sailin' on the seas (yo-ho!)\n",
    "And you've got some tasty treats (arr!)\n",
    "Don't forget to share with mates\n",
    "That's what every pirate states! (ahoy!)\n",
    "\n",
    "Chorus:\n",
    "Sharin' is carin', me hearties know\n",
    "It fills our hearts with a friendly glow\n",
    "Whether it's treasure or a yummy snack\n",
    "Sharin' with others keeps the smiles on track! (yo-ho!)\n",
    "\n",
    "Verse 2:\n",
    "If you've got a shiny coin (avast!)\n",
    "Or a scrumptious candy growin'\n",
    "Pass it 'round to all yer crew\n",
    "Sharin' makes the skies more blue! (arr!)\n",
    "\n",
    "Chorus:\n",
    "Sharin' is carin', me hearties know\n",
    "It fills our hearts with a friendly glow\n",
    "\n",
    "Whether it's treasure or a yummy snack\n",
    "Sharin' with others keeps the smiles on track! (yo-ho!)\n",
    "\"\"\"   \n",
    "    \n",
    "\n",
    "result = asyncio.run(async_generate_music(data))"
   ]
  }
 ],
 "metadata": {
  "kernelspec": {
   "display_name": "ABSeas",
   "language": "python",
   "name": "python3"
  },
  "language_info": {
   "codemirror_mode": {
    "name": "ipython",
    "version": 3
   },
   "file_extension": ".py",
   "mimetype": "text/x-python",
   "name": "python",
   "nbconvert_exporter": "python",
   "pygments_lexer": "ipython3",
   "version": "3.9.19"
  }
 },
 "nbformat": 4,
 "nbformat_minor": 2
}
