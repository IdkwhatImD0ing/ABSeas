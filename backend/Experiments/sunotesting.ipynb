{
 "cells": [
  {
   "cell_type": "code",
   "execution_count": 18,
   "metadata": {},
   "outputs": [],
   "source": [
    "import asyncio\n",
    "from dotenv import load_dotenv\n",
    "import aiohttp\n",
    "\n",
    "load_dotenv()\n",
    "import nest_asyncio\n",
    "\n",
    "nest_asyncio.apply()\n",
    "import os\n",
    "from anthropic import AsyncAnthropic\n",
    "from xml.sax.saxutils import escape\n",
    "from suno import SongsGen\n",
    "from concurrent.futures import ThreadPoolExecutor\n",
    "\n",
    "from io import BytesIO\n",
    "import base64\n",
    "from socket_manager import ConnectionManager"
   ]
  },
  {
   "cell_type": "code",
   "execution_count": 19,
   "metadata": {},
   "outputs": [],
   "source": [
    "manager = ConnectionManager()"
   ]
  },
  {
   "cell_type": "code",
   "execution_count": 20,
   "metadata": {},
   "outputs": [],
   "source": [
    "\n",
    "async def async_generate_music(lyrics):\n",
    "    GenerateSong = SongsGen(os.environ.get(\"SUNO_COOKIE\"))\n",
    "    print(GenerateSong.get_limit_left())\n",
    "    loop = asyncio.get_running_loop()\n",
    "\n",
    "    result = None\n",
    "    # Use a ThreadPoolExecutor to run synchronous functions in threads\n",
    "    with ThreadPoolExecutor() as pool:\n",
    "        result = await loop.run_in_executor(\n",
    "            pool,\n",
    "            lambda: GenerateSong.get_songs(lyrics, is_custom = True, title = \"custom\", tags = \"slow, catchy, maritime, pirate\"),\n",
    "        )\n",
    "\n",
    "    if not result:\n",
    "        return None\n",
    "\n",
    "    link = result[\"song_url\"]\n",
    "    print(\"Link: \", link)\n",
    "    \n",
    "    response = GenerateSong.session.get(link, stream = True)\n",
    "    print(response.status_code)\n",
    "    audio = response.iter_content()\n",
    "    for chunk in audio:\n",
    "        if chunk:\n",
    "            # translates binary to base64 string\n",
    "            b64 = base64.b64encode(chunk)\n",
    "            # decodes the b.64 binary obj into a string\n",
    "            utf = b64.decode('utf-8')\n",
    "            # creates a dict obj that stores the event as an audio chunk and sets the audio data to utf format\n",
    "            obj = {\n",
    "                \"event\": \"audio\",\n",
    "                \"audio_data\": utf\n",
    "            }\n",
    "            # waits for broadcasting to run\n",
    "            await manager.broadcast(obj)    "
   ]
  },
  {
   "cell_type": "code",
   "execution_count": 21,
   "metadata": {},
   "outputs": [
    {
     "name": "stdout",
     "output_type": "stream",
     "text": [
      "97\n"
     ]
    },
    {
     "data": {
      "text/html": [
       "<pre style=\"white-space:pre;overflow-x:auto;line-height:normal;font-family:Menlo,'DejaVu Sans Mono',consolas,'Courier New',monospace\"><span style=\"font-weight: bold\">{</span>\n",
       "    <span style=\"color: #008000; text-decoration-color: #008000\">'gpt_description_prompt'</span>: <span style=\"color: #008000; text-decoration-color: #008000\">''</span>,\n",
       "    <span style=\"color: #008000; text-decoration-color: #008000\">'mv'</span>: <span style=\"color: #008000; text-decoration-color: #008000\">'chirp-v3-0'</span>,\n",
       "    <span style=\"color: #008000; text-decoration-color: #008000\">'prompt'</span>: <span style=\"color: #008000; text-decoration-color: #008000\">\"\\nVerse 1:\\nWhen yer sailin' on the seas (yo-ho!)\\nAnd you've got some tasty treats (arr!)\\nDon't </span>\n",
       "<span style=\"color: #008000; text-decoration-color: #008000\">forget to share with mates\\nThat's what every pirate states! (ahoy!)\\n\\n\"</span>,\n",
       "    <span style=\"color: #008000; text-decoration-color: #008000\">'make_instrumental'</span>: <span style=\"color: #ff0000; text-decoration-color: #ff0000; font-style: italic\">False</span>,\n",
       "    <span style=\"color: #008000; text-decoration-color: #008000\">'title'</span>: <span style=\"color: #008000; text-decoration-color: #008000\">'custom'</span>,\n",
       "    <span style=\"color: #008000; text-decoration-color: #008000\">'tags'</span>: <span style=\"color: #008000; text-decoration-color: #008000\">'slow, catchy, maritime, pirate'</span>\n",
       "<span style=\"font-weight: bold\">}</span>\n",
       "</pre>\n"
      ],
      "text/plain": [
       "\u001b[1m{\u001b[0m\n",
       "    \u001b[32m'gpt_description_prompt'\u001b[0m: \u001b[32m''\u001b[0m,\n",
       "    \u001b[32m'mv'\u001b[0m: \u001b[32m'chirp-v3-0'\u001b[0m,\n",
       "    \u001b[32m'prompt'\u001b[0m: \u001b[32m\"\\nVerse 1:\\nWhen yer sailin' on the seas \u001b[0m\u001b[32m(\u001b[0m\u001b[32myo-ho!\u001b[0m\u001b[32m)\u001b[0m\u001b[32m\\nAnd you've got some tasty treats \u001b[0m\u001b[32m(\u001b[0m\u001b[32marr!\u001b[0m\u001b[32m)\u001b[0m\u001b[32m\\nDon't \u001b[0m\n",
       "\u001b[32mforget to share with mates\\nThat's what every pirate states! \u001b[0m\u001b[32m(\u001b[0m\u001b[32mahoy!\u001b[0m\u001b[32m)\u001b[0m\u001b[32m\\n\\n\"\u001b[0m,\n",
       "    \u001b[32m'make_instrumental'\u001b[0m: \u001b[3;91mFalse\u001b[0m,\n",
       "    \u001b[32m'title'\u001b[0m: \u001b[32m'custom'\u001b[0m,\n",
       "    \u001b[32m'tags'\u001b[0m: \u001b[32m'slow, catchy, maritime, pirate'\u001b[0m\n",
       "\u001b[1m}\u001b[0m\n"
      ]
     },
     "metadata": {},
     "output_type": "display_data"
    },
    {
     "data": {
      "text/html": [
       "<pre style=\"white-space:pre;overflow-x:auto;line-height:normal;font-family:Menlo,'DejaVu Sans Mono',consolas,'Courier New',monospace\">Waiting for results<span style=\"color: #808000; text-decoration-color: #808000\">...</span>\n",
       "</pre>\n"
      ],
      "text/plain": [
       "Waiting for results\u001b[33m...\u001b[0m\n"
      ]
     },
     "metadata": {},
     "output_type": "display_data"
    },
    {
     "data": {
      "text/html": [
       "<pre style=\"white-space:pre;overflow-x:auto;line-height:normal;font-family:Menlo,'DejaVu Sans Mono',consolas,'Courier New',monospace\">.</pre>\n"
      ],
      "text/plain": [
       "."
      ]
     },
     "metadata": {},
     "output_type": "display_data"
    },
    {
     "data": {
      "text/html": [
       "<pre style=\"white-space:pre;overflow-x:auto;line-height:normal;font-family:Menlo,'DejaVu Sans Mono',consolas,'Courier New',monospace\">.</pre>\n"
      ],
      "text/plain": [
       "."
      ]
     },
     "metadata": {},
     "output_type": "display_data"
    },
    {
     "data": {
      "text/html": [
       "<pre style=\"white-space:pre;overflow-x:auto;line-height:normal;font-family:Menlo,'DejaVu Sans Mono',consolas,'Courier New',monospace\">.</pre>\n"
      ],
      "text/plain": [
       "."
      ]
     },
     "metadata": {},
     "output_type": "display_data"
    },
    {
     "data": {
      "text/html": [
       "<pre style=\"white-space:pre;overflow-x:auto;line-height:normal;font-family:Menlo,'DejaVu Sans Mono',consolas,'Courier New',monospace\">.</pre>\n"
      ],
      "text/plain": [
       "."
      ]
     },
     "metadata": {},
     "output_type": "display_data"
    },
    {
     "name": "stdout",
     "output_type": "stream",
     "text": [
      "Link:  https://audiopipe.suno.ai/?item_id=fae2bd4b-6606-4de6-bb6b-57c9babd8eca\n",
      "200\n",
      "sending chunk\n",
      "sending chunk\n",
      "sending chunk\n",
      "sending chunk\n",
      "sending chunk\n",
      "sending chunk\n",
      "sending chunk\n",
      "sending chunk\n",
      "sending chunk\n",
      "sending chunk\n",
      "sending chunk\n",
      "sending chunk\n",
      "sending chunk\n",
      "sending chunk\n",
      "sending chunk\n",
      "sending chunk\n",
      "sending chunk\n",
      "sending chunk\n",
      "sending chunk\n",
      "sending chunk\n",
      "sending chunk\n",
      "sending chunk\n",
      "sending chunk\n",
      "sending chunk\n",
      "sending chunk\n",
      "sending chunk\n",
      "sending chunk\n",
      "sending chunk\n",
      "sending chunk\n",
      "sending chunk\n",
      "sending chunk\n",
      "sending chunk\n",
      "sending chunk\n",
      "sending chunk\n",
      "sending chunk\n",
      "sending chunk\n",
      "sending chunk\n"
     ]
    }
   ],
   "source": [
    "import json\n",
    "# Load json from data/data.json\n",
    "\n",
    "with open('data/data.json') as f:\n",
    "    data = json.load(f)\n",
    "    \n",
    "data = data[\"script\"]\n",
    "\n",
    "data =  \"\"\"\n",
    "Verse 1:\n",
    "When yer sailin' on the seas (yo-ho!)\n",
    "And you've got some tasty treats (arr!)\n",
    "Don't forget to share with mates\n",
    "That's what every pirate states! (ahoy!)\n",
    "\n",
    "\"\"\"   \n",
    "\n",
    "asyncio.run(async_generate_music(data))\n"
   ]
  }
 ],
 "metadata": {
  "kernelspec": {
   "display_name": "ABSeas",
   "language": "python",
   "name": "python3"
  },
  "language_info": {
   "codemirror_mode": {
    "name": "ipython",
    "version": 3
   },
   "file_extension": ".py",
   "mimetype": "text/x-python",
   "name": "python",
   "nbconvert_exporter": "python",
   "pygments_lexer": "ipython3",
   "version": "3.9.19"
  }
 },
 "nbformat": 4,
 "nbformat_minor": 2
}
